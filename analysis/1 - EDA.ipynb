{
 "cells": [
  {
   "cell_type": "code",
   "execution_count": 49,
   "metadata": {},
   "outputs": [],
   "source": [
    "import pandas as pd\n",
    "import numpy as np\n",
    "import matplotlib.pyplot as plt\n",
    "import warnings\n",
    "\n",
    "warnings.simplefilter('ignore')\n",
    "pd.set_option('display.max_columns', None)\n",
    "%matplotlib inline"
   ]
  },
  {
   "cell_type": "code",
   "execution_count": 50,
   "metadata": {},
   "outputs": [],
   "source": [
    "portfolio1 = pd.read_csv('../data/raw/estaticos_portfolio1.csv')\n",
    "portfolio2 = pd.read_csv('../data/raw/estaticos_portfolio2.csv')\n",
    "portfolio3 = pd.read_csv('../data/raw/estaticos_portfolio3.csv')\n",
    "market     = pd.read_csv('../data/raw/estaticos_market.csv')"
   ]
  },
  {
   "cell_type": "code",
   "execution_count": 51,
   "metadata": {},
   "outputs": [
    {
     "name": "stdout",
     "output_type": "stream",
     "text": [
      "portfolio1 has 555 rows and 181 columns\n",
      "portfolio2 has 566 rows and 1 columns\n",
      "portfolio3 has 265 rows and 1 columns\n",
      "market has 462298 rows and 181 columns\n"
     ]
    }
   ],
   "source": [
    "names = ['portfolio1', 'portfolio2', 'portfolio3', 'market']\n",
    "dfs   = [portfolio1, portfolio2, portfolio3, market]\n",
    "for name, df in zip(names, dfs) :\n",
    "    df.drop(['Unnamed: 0'], axis=1, inplace=True)\n",
    "    print(name, 'has {} rows and {} columns'.format(*df.shape))"
   ]
  },
  {
   "cell_type": "code",
   "execution_count": 53,
   "metadata": {},
   "outputs": [],
   "source": [
    "def get_metadata(df, features=None):\n",
    "    df = df.copy()\n",
    "    if features is None:\n",
    "        features = list(df.columns)\n",
    "    total_missing = df[features].isnull().sum()\n",
    "    percent_missing = (df[features].isnull().sum()/df[features].isnull().count())\n",
    "    distinct_values = df.nunique(dropna=False)\n",
    "    types = df.dtypes\n",
    "    meta_data = pd.concat([total_missing, percent_missing, distinct_values, types],\n",
    "                          axis=1, keys=['Total Missing', 'Percent Missing', 'Distinct Values', 'Type'])\n",
    "    return meta_data.sort_values('Percent Missing', ascending=False)"
   ]
  },
  {
   "cell_type": "code",
   "execution_count": 55,
   "metadata": {},
   "outputs": [
    {
     "data": {
      "text/plain": [
       "array([1.        , 0.9981982 , 0.9963964 , 0.99459459, 0.99279279,\n",
       "       0.98738739, 0.97477477, 0.97297297, 0.96216216, 0.96036036,\n",
       "       0.95855856, 0.95495495, 0.94414414, 0.94234234, 0.94054054,\n",
       "       0.93333333, 0.93153153, 0.92432432, 0.92252252, 0.91711712,\n",
       "       0.91171171, 0.90990991, 0.9027027 , 0.88828829, 0.88648649,\n",
       "       0.84504505, 0.83603604, 0.82522523, 0.81801802, 0.76396396,\n",
       "       0.73693694, 0.65765766, 0.64324324, 0.35135135, 0.34774775,\n",
       "       0.27027027, 0.26486486, 0.18198198, 0.11531532, 0.08468468,\n",
       "       0.04504505, 0.01981982, 0.00720721, 0.        ])"
      ]
     },
     "execution_count": 55,
     "metadata": {},
     "output_type": "execute_result"
    }
   ],
   "source": [
    "metadata = get_metadata(portfolio1)\n",
    "metadata['Percent Missing'].unique()"
   ]
  },
  {
   "cell_type": "markdown",
   "metadata": {},
   "source": [
    "**Getting Features Below 60% of Missing Values**"
   ]
  },
  {
   "cell_type": "code",
   "execution_count": 56,
   "metadata": {},
   "outputs": [],
   "source": [
    "use_features = list(metadata[metadata['Percent Missing'] < .60].index)\n",
    "df_portfolio1 = portfolio1[use_features].reset_index()"
   ]
  },
  {
   "cell_type": "code",
   "execution_count": 67,
   "metadata": {},
   "outputs": [
    {
     "data": {
      "text/html": [
       "<div>\n",
       "<style scoped>\n",
       "    .dataframe tbody tr th:only-of-type {\n",
       "        vertical-align: middle;\n",
       "    }\n",
       "\n",
       "    .dataframe tbody tr th {\n",
       "        vertical-align: top;\n",
       "    }\n",
       "\n",
       "    .dataframe thead th {\n",
       "        text-align: right;\n",
       "    }\n",
       "</style>\n",
       "<table border=\"1\" class=\"dataframe\">\n",
       "  <thead>\n",
       "    <tr style=\"text-align: right;\">\n",
       "      <th></th>\n",
       "      <th>Total Missing</th>\n",
       "      <th>Percent Missing</th>\n",
       "      <th>Distinct Values</th>\n",
       "      <th>Type</th>\n",
       "    </tr>\n",
       "  </thead>\n",
       "  <tbody>\n",
       "    <tr>\n",
       "      <th>qt_socios_st_regular</th>\n",
       "      <td>195</td>\n",
       "      <td>0.351351</td>\n",
       "      <td>6</td>\n",
       "      <td>float64</td>\n",
       "    </tr>\n",
       "    <tr>\n",
       "      <th>idade_minima_socios</th>\n",
       "      <td>193</td>\n",
       "      <td>0.347748</td>\n",
       "      <td>60</td>\n",
       "      <td>float64</td>\n",
       "    </tr>\n",
       "    <tr>\n",
       "      <th>idade_maxima_socios</th>\n",
       "      <td>193</td>\n",
       "      <td>0.347748</td>\n",
       "      <td>63</td>\n",
       "      <td>float64</td>\n",
       "    </tr>\n",
       "    <tr>\n",
       "      <th>idade_media_socios</th>\n",
       "      <td>193</td>\n",
       "      <td>0.347748</td>\n",
       "      <td>81</td>\n",
       "      <td>float64</td>\n",
       "    </tr>\n",
       "    <tr>\n",
       "      <th>empsetorcensitariofaixarendapopulacao</th>\n",
       "      <td>150</td>\n",
       "      <td>0.270270</td>\n",
       "      <td>392</td>\n",
       "      <td>float64</td>\n",
       "    </tr>\n",
       "    <tr>\n",
       "      <th>qt_socios</th>\n",
       "      <td>147</td>\n",
       "      <td>0.264865</td>\n",
       "      <td>7</td>\n",
       "      <td>float64</td>\n",
       "    </tr>\n",
       "    <tr>\n",
       "      <th>qt_socios_pf</th>\n",
       "      <td>147</td>\n",
       "      <td>0.264865</td>\n",
       "      <td>7</td>\n",
       "      <td>float64</td>\n",
       "    </tr>\n",
       "    <tr>\n",
       "      <th>qt_socios_pj</th>\n",
       "      <td>147</td>\n",
       "      <td>0.264865</td>\n",
       "      <td>4</td>\n",
       "      <td>float64</td>\n",
       "    </tr>\n",
       "    <tr>\n",
       "      <th>fl_optante_simples</th>\n",
       "      <td>101</td>\n",
       "      <td>0.181982</td>\n",
       "      <td>3</td>\n",
       "      <td>object</td>\n",
       "    </tr>\n",
       "    <tr>\n",
       "      <th>fl_optante_simei</th>\n",
       "      <td>101</td>\n",
       "      <td>0.181982</td>\n",
       "      <td>3</td>\n",
       "      <td>object</td>\n",
       "    </tr>\n",
       "    <tr>\n",
       "      <th>nm_micro_regiao</th>\n",
       "      <td>64</td>\n",
       "      <td>0.115315</td>\n",
       "      <td>67</td>\n",
       "      <td>object</td>\n",
       "    </tr>\n",
       "    <tr>\n",
       "      <th>nm_meso_regiao</th>\n",
       "      <td>64</td>\n",
       "      <td>0.115315</td>\n",
       "      <td>20</td>\n",
       "      <td>object</td>\n",
       "    </tr>\n",
       "    <tr>\n",
       "      <th>nu_meses_rescencia</th>\n",
       "      <td>47</td>\n",
       "      <td>0.084685</td>\n",
       "      <td>24</td>\n",
       "      <td>float64</td>\n",
       "    </tr>\n",
       "    <tr>\n",
       "      <th>vl_faturamento_estimado_grupo_aux</th>\n",
       "      <td>25</td>\n",
       "      <td>0.045045</td>\n",
       "      <td>67</td>\n",
       "      <td>float64</td>\n",
       "    </tr>\n",
       "    <tr>\n",
       "      <th>de_faixa_faturamento_estimado_grupo</th>\n",
       "      <td>25</td>\n",
       "      <td>0.045045</td>\n",
       "      <td>10</td>\n",
       "      <td>object</td>\n",
       "    </tr>\n",
       "    <tr>\n",
       "      <th>de_faixa_faturamento_estimado</th>\n",
       "      <td>25</td>\n",
       "      <td>0.045045</td>\n",
       "      <td>8</td>\n",
       "      <td>object</td>\n",
       "    </tr>\n",
       "    <tr>\n",
       "      <th>vl_faturamento_estimado_aux</th>\n",
       "      <td>25</td>\n",
       "      <td>0.045045</td>\n",
       "      <td>42</td>\n",
       "      <td>float64</td>\n",
       "    </tr>\n",
       "    <tr>\n",
       "      <th>de_saude_tributaria</th>\n",
       "      <td>11</td>\n",
       "      <td>0.019820</td>\n",
       "      <td>7</td>\n",
       "      <td>object</td>\n",
       "    </tr>\n",
       "    <tr>\n",
       "      <th>de_saude_rescencia</th>\n",
       "      <td>11</td>\n",
       "      <td>0.019820</td>\n",
       "      <td>4</td>\n",
       "      <td>object</td>\n",
       "    </tr>\n",
       "    <tr>\n",
       "      <th>de_nivel_atividade</th>\n",
       "      <td>4</td>\n",
       "      <td>0.007207</td>\n",
       "      <td>5</td>\n",
       "      <td>object</td>\n",
       "    </tr>\n",
       "  </tbody>\n",
       "</table>\n",
       "</div>"
      ],
      "text/plain": [
       "                                       Total Missing  Percent Missing  \\\n",
       "qt_socios_st_regular                             195         0.351351   \n",
       "idade_minima_socios                              193         0.347748   \n",
       "idade_maxima_socios                              193         0.347748   \n",
       "idade_media_socios                               193         0.347748   \n",
       "empsetorcensitariofaixarendapopulacao            150         0.270270   \n",
       "qt_socios                                        147         0.264865   \n",
       "qt_socios_pf                                     147         0.264865   \n",
       "qt_socios_pj                                     147         0.264865   \n",
       "fl_optante_simples                               101         0.181982   \n",
       "fl_optante_simei                                 101         0.181982   \n",
       "nm_micro_regiao                                   64         0.115315   \n",
       "nm_meso_regiao                                    64         0.115315   \n",
       "nu_meses_rescencia                                47         0.084685   \n",
       "vl_faturamento_estimado_grupo_aux                 25         0.045045   \n",
       "de_faixa_faturamento_estimado_grupo               25         0.045045   \n",
       "de_faixa_faturamento_estimado                     25         0.045045   \n",
       "vl_faturamento_estimado_aux                       25         0.045045   \n",
       "de_saude_tributaria                               11         0.019820   \n",
       "de_saude_rescencia                                11         0.019820   \n",
       "de_nivel_atividade                                 4         0.007207   \n",
       "\n",
       "                                       Distinct Values     Type  \n",
       "qt_socios_st_regular                                 6  float64  \n",
       "idade_minima_socios                                 60  float64  \n",
       "idade_maxima_socios                                 63  float64  \n",
       "idade_media_socios                                  81  float64  \n",
       "empsetorcensitariofaixarendapopulacao              392  float64  \n",
       "qt_socios                                            7  float64  \n",
       "qt_socios_pf                                         7  float64  \n",
       "qt_socios_pj                                         4  float64  \n",
       "fl_optante_simples                                   3   object  \n",
       "fl_optante_simei                                     3   object  \n",
       "nm_micro_regiao                                     67   object  \n",
       "nm_meso_regiao                                      20   object  \n",
       "nu_meses_rescencia                                  24  float64  \n",
       "vl_faturamento_estimado_grupo_aux                   67  float64  \n",
       "de_faixa_faturamento_estimado_grupo                 10   object  \n",
       "de_faixa_faturamento_estimado                        8   object  \n",
       "vl_faturamento_estimado_aux                         42  float64  \n",
       "de_saude_tributaria                                  7   object  \n",
       "de_saude_rescencia                                   4   object  \n",
       "de_nivel_atividade                                   5   object  "
      ]
     },
     "execution_count": 67,
     "metadata": {},
     "output_type": "execute_result"
    }
   ],
   "source": [
    "df_portfolio1_meta = get_metadata(df_portfolio1)\n",
    "df_portfolio1_meta[df_portfolio1_meta['Total Missing'] > 0]"
   ]
  },
  {
   "cell_type": "code",
   "execution_count": 82,
   "metadata": {},
   "outputs": [
    {
     "data": {
      "text/plain": [
       "12"
      ]
     },
     "execution_count": 82,
     "metadata": {},
     "output_type": "execute_result"
    }
   ],
   "source": [
    "len(list(df_portfolio1_meta[df_portfolio1_meta['Type'] == 'float64'].index))"
   ]
  },
  {
   "cell_type": "code",
   "execution_count": 115,
   "metadata": {},
   "outputs": [
    {
     "data": {
      "image/png": "[encoded data removed]",
      "text/plain": [
       "<Figure size 1152x576 with 12 Axes>"
      ]
     },
     "metadata": {
      "needs_background": "light"
     },
     "output_type": "display_data"
    }
   ],
   "source": [
    "cols = list(df_portfolio1_meta[df_portfolio1_meta['Type'] == 'float64'].index)\n",
    "\n",
    "fig = plt.figure(figsize=(16,8))\n",
    "\n",
    "for col, num in zip(cols, range(1,13)):\n",
    "    ax = fig.add_subplot(3,4,num)\n",
    "    ax.hist(df_portfolio1[col])\n",
    "    ax.set_title(col)\n",
    "\n",
    "plt.tight_layout()\n",
    "plt.show()"
   ]
  },
  {
   "cell_type": "code",
   "execution_count": null,
   "metadata": {},
   "outputs": [],
   "source": []
  }
 ],
 "metadata": {
  "kernelspec": {
   "display_name": "Python 3",
   "language": "python",
   "name": "python3"
  },
  "language_info": {
   "codemirror_mode": {
    "name": "ipython",
    "version": 3
   },
   "file_extension": ".py",
   "mimetype": "text/x-python",
   "name": "python",
   "nbconvert_exporter": "python",
   "pygments_lexer": "ipython3",
   "version": "3.6.5"
  }
 },
 "nbformat": 4,
 "nbformat_minor": 2
}
